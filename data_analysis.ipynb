{
 "cells": [
  {
   "cell_type": "markdown",
   "metadata": {
    "colab_type": "text",
    "id": "1QSZzzI9CNTc"
   },
   "source": [
    "# Data Analysis"
   ]
  },
  {
   "cell_type": "code",
   "execution_count": 5,
   "metadata": {
    "colab": {},
    "colab_type": "code",
    "id": "u_F2uoysCNTe"
   },
   "outputs": [],
   "source": [
    "import pandas as pd\n",
    "import seaborn as sns\n",
    "import numpy as np\n",
    "from data_treatment import DataAtts\n",
    "from scipy.stats import norm\n",
    "import ipywidgets as widgets\n",
    "import matplotlib.pyplot as plt\n",
    "import glob\n",
    "from IPython.display import display"
   ]
  },
  {
   "cell_type": "code",
   "execution_count": 6,
   "metadata": {
    "colab": {
     "base_uri": "https://localhost:8080/",
     "height": 49,
     "referenced_widgets": [
      "9f6fa67984b54a0a8221440c871ce41a",
      "42fd8ac8651d402f924064b4e409b3ca",
      "a9e212199163413296b7c65cf44362a0"
     ]
    },
    "colab_type": "code",
    "id": "eUf0dMBtCNTg",
    "outputId": "8f6ba935-d877-4370-8666-78b32e190a30"
   },
   "outputs": [
    {
     "data": {
      "application/vnd.jupyter.widget-view+json": {
       "model_id": "0a3afa4de9344f5f989fc01ebd0cfd9f",
       "version_major": 2,
       "version_minor": 0
      },
      "text/plain": [
       "Dropdown(description='File:', options=('original_data/diabetes_escalonated.csv', 'original_data/data.csv', 'or…"
      ]
     },
     "metadata": {},
     "output_type": "display_data"
    }
   ],
   "source": [
    "# Folder structure needed to run original_data, values_analysis, images/diabetes_escalonated (In case files recycle)\n",
    "# Run data_treatment.py\n",
    "# Change dataset here\n",
    "files_dropdown = widgets.Dropdown(\n",
    "    options=glob.glob(\"original_data/*.csv\"),\n",
    "    description='File:',\n",
    "    value = 'original_data/diabetes_escalonated.csv', \n",
    "    disabled=False,\n",
    ")\n",
    "display(files_dropdown)\n"
   ]
  },
  {
   "cell_type": "code",
   "execution_count": 7,
   "metadata": {
    "colab": {
     "base_uri": "https://localhost:8080/",
     "height": 85
    },
    "colab_type": "code",
    "id": "bMT6Zp8uCNTj",
    "outputId": "19fcddbd-a352-4162-d212-098630e9de4c"
   },
   "outputs": [
    {
     "name": "stdout",
     "output_type": "stream",
     "text": [
      "Pima Indians Diabetes Database eSCALONATED \n",
      "\n",
      "Normal 65.1 %  of the dataset\n",
      "Diabets 34.9 %  of the dataset\n"
     ]
    }
   ],
   "source": [
    "file_name=files_dropdown.value\n",
    "dataAtts = DataAtts(file_name)\n",
    "    \n",
    "    \n",
    "data = pd.read_csv(file_name)\n",
    "print(dataAtts.message, \"\\n\")\n",
    "print(dataAtts.values_names[0], round(data[dataAtts.class_name].value_counts()[0]/len(data) * 100,2), '%  of the dataset')\n",
    "print(dataAtts.values_names[1], round(data[dataAtts.class_name].value_counts()[1]/len(data) * 100,2), '%  of the dataset')"
   ]
  },
  {
   "cell_type": "code",
   "execution_count": 8,
   "metadata": {
    "colab": {
     "base_uri": "https://localhost:8080/",
     "height": 34
    },
    "colab_type": "code",
    "id": "up3I8QiPCNTl",
    "outputId": "4445b7be-dc5f-401a-ac39-32baa234b91f"
   },
   "outputs": [
    {
     "data": {
      "text/plain": [
       "<Figure size 432x288 with 0 Axes>"
      ]
     },
     "metadata": {},
     "output_type": "display_data"
    }
   ],
   "source": [
    "#Add subfolder to images to save all distribution figures i.e. images/\"dataset_name\"\n",
    "classes = list(data)\n",
    "file = open(\"values_analysis/\" + dataAtts.fname + \"_analysis.txt\", \"w\")\n",
    "\n",
    "file.write(dataAtts.message +  \"\\n\\n\")\n",
    "file.write(dataAtts.values_names[0] + \": \" + str(round(data[dataAtts.class_name].value_counts()[0]/len(data) * 100, 2)) +  '%  of the dataset' + \"\\n\")\n",
    "file.write(dataAtts.values_names[1] + \": \" +   str(round(data[dataAtts.class_name].value_counts()[1]/len(data) * 100, 2)) +  '%  of the dataset' + \"\\n\\n\")\n",
    "\n",
    "for name in classes:\n",
    "    if name==dataAtts.class_name or name==\"Unnamed: 32\":\n",
    "        continue\n",
    "    plt.xlabel('Values')\n",
    "    plt.ylabel('Probability')\n",
    "    plt.title(name + \" distribution\")\n",
    "    #Collecting corresponding class values where the Outcome is 0/1 (Color red being 1 and blue being 0)\n",
    "    fraud_dist = data[name].loc[data[dataAtts.class_name] == 1].values\n",
    "    common_dist = data[name].loc[data[dataAtts.class_name] == 0].values\n",
    "    plt.hist(common_dist, 50, density=True, alpha=0.6)\n",
    "    plt.hist(fraud_dist, 50, density=True, alpha=0.6, facecolor='r')\n",
    "    plt.savefig('images/'+ dataAtts.fname + \"/\"+name+'_distribution.png')\n",
    "    plt.clf()\n",
    "    \n",
    "    file.write(name + \":\\n\")\n",
    "    file.write(\"\\t\\t\\t\" + dataAtts.values_names[0] + \"\\t\\t\\t\\t\\t\"+dataAtts.values_names[1]+\"\\n\")\n",
    "    file.write(\"min:\\t\\t\" + str(round(common_dist.min(), 3)) + \"\\t\\t\\t\\t\\t\" + str(round(fraud_dist.min(), 3))+\"\\n\")\n",
    "    file.write(\"max:\\t\\t\" + str(round(common_dist.max(), 3)) + \"\\t\\t\\t\\t\\t\" + str(round(fraud_dist.max(), 3))+\"\\n\")\n",
    "    file.write(\"mean:\\t\\t\" + str(round(common_dist.mean(), 3)) + \"\\t\\t\\t\\t\\t\" + str(round(fraud_dist.mean(), 3))+\"\\n\")\n",
    "    file.write(\"median:\\t\\t\" + str(round(np.median(common_dist), 3)) + \"\\t\\t\\t\\t\\t\" + str(round(np.median(fraud_dist), 3))+\"\\n\\n\")"
   ]
  },
  {
   "cell_type": "code",
   "execution_count": null,
   "metadata": {
    "colab": {},
    "colab_type": "code",
    "id": "8VUml_AmCNTo"
   },
   "outputs": [],
   "source": []
  }
 ],
 "metadata": {
  "colab": {
   "name": "Copy of data_analysis.ipynb",
   "provenance": []
  },
  "kernelspec": {
   "display_name": "Python 3",
   "language": "python",
   "name": "python3"
  },
  "language_info": {
   "codemirror_mode": {
    "name": "ipython",
    "version": 3
   },
   "file_extension": ".py",
   "mimetype": "text/x-python",
   "name": "python",
   "nbconvert_exporter": "python",
   "pygments_lexer": "ipython3",
   "version": "3.7.3"
  },
  "widgets": {
   "application/vnd.jupyter.widget-state+json": {
    "42fd8ac8651d402f924064b4e409b3ca": {
     "model_module": "@jupyter-widgets/controls",
     "model_name": "DescriptionStyleModel",
     "state": {
      "_model_module": "@jupyter-widgets/controls",
      "_model_module_version": "1.5.0",
      "_model_name": "DescriptionStyleModel",
      "_view_count": null,
      "_view_module": "@jupyter-widgets/base",
      "_view_module_version": "1.2.0",
      "_view_name": "StyleView",
      "description_width": ""
     }
    },
    "9f6fa67984b54a0a8221440c871ce41a": {
     "model_module": "@jupyter-widgets/controls",
     "model_name": "DropdownModel",
     "state": {
      "_dom_classes": [],
      "_model_module": "@jupyter-widgets/controls",
      "_model_module_version": "1.5.0",
      "_model_name": "DropdownModel",
      "_options_labels": [
       "original_data/creditcard_1s_escalonated.csv",
       "original_data/data_escalonated.csv",
       "original_data/diabetes_escalonated.csv",
       "original_data/data.csv",
       "original_data/diabetes.csv"
      ],
      "_view_count": null,
      "_view_module": "@jupyter-widgets/controls",
      "_view_module_version": "1.5.0",
      "_view_name": "DropdownView",
      "description": "File:",
      "description_tooltip": null,
      "disabled": false,
      "index": 2,
      "layout": "IPY_MODEL_a9e212199163413296b7c65cf44362a0",
      "style": "IPY_MODEL_42fd8ac8651d402f924064b4e409b3ca"
     }
    },
    "a9e212199163413296b7c65cf44362a0": {
     "model_module": "@jupyter-widgets/base",
     "model_name": "LayoutModel",
     "state": {
      "_model_module": "@jupyter-widgets/base",
      "_model_module_version": "1.2.0",
      "_model_name": "LayoutModel",
      "_view_count": null,
      "_view_module": "@jupyter-widgets/base",
      "_view_module_version": "1.2.0",
      "_view_name": "LayoutView",
      "align_content": null,
      "align_items": null,
      "align_self": null,
      "border": null,
      "bottom": null,
      "display": null,
      "flex": null,
      "flex_flow": null,
      "grid_area": null,
      "grid_auto_columns": null,
      "grid_auto_flow": null,
      "grid_auto_rows": null,
      "grid_column": null,
      "grid_gap": null,
      "grid_row": null,
      "grid_template_areas": null,
      "grid_template_columns": null,
      "grid_template_rows": null,
      "height": null,
      "justify_content": null,
      "justify_items": null,
      "left": null,
      "margin": null,
      "max_height": null,
      "max_width": null,
      "min_height": null,
      "min_width": null,
      "object_fit": null,
      "object_position": null,
      "order": null,
      "overflow": null,
      "overflow_x": null,
      "overflow_y": null,
      "padding": null,
      "right": null,
      "top": null,
      "visibility": null,
      "width": null
     }
    }
   }
  }
 },
 "nbformat": 4,
 "nbformat_minor": 1
}
